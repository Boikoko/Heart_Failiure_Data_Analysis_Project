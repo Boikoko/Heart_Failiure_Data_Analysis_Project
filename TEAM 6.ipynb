{
 "cells": [
  {
   "cell_type": "markdown",
   "id": "3ce174ff-d344-483c-a8b9-ec37f7329150",
   "metadata": {},
   "source": [
    "##  Exploring Age, Gender, and Health Conditions as Predictors of Mortality in Heart Failure Patients"
   ]
  },
  {
   "cell_type": "markdown",
   "id": "cf07474b-37a2-4f96-be8f-27188c6036c4",
   "metadata": {},
   "source": [
    "### Table of Contents\r\n",
    "1. Project Overview**# \r\n",
    "1.1 Introduction*# *\r\n",
    "1.1.1 Problem Statement# **\r\n",
    "1.2 Objectives**\r\n",
    "2. Importing Packages**\r\n",
    "3. Loading Data**\r\n",
    "4. Data Cleaning**\r\n",
    "5. Exploratory Data Analysisn6g Sprints\r\n",
    "10. 7nclusion**\r\n",
    "11. References"
   ]
  },
  {
   "cell_type": "markdown",
   "id": "7caf9727-bc29-4b9a-a5b1-569d20dc6fc5",
   "metadata": {},
   "source": [
    "### Project Overview"
   ]
  },
  {
   "cell_type": "markdown",
   "id": "8b1dd9cd-9a79-4929-86fd-e34414f20695",
   "metadata": {},
   "source": [
    "### Introduction\n",
    "\n",
    "Cardiovascular diseases (CVDs) are the leading cause of death worldwide, with heart failure being a major contributor. Understanding the factors that influence mortality in heart failure patients—particularly age, gender, and pre-existing conditions like hypertension and diabetes—can help in identifying high-risk individuals and improving patient outcomes.\n",
    "\n",
    "This project explores the relationships between demographic factors and health conditions in predicting mortality among heart failure patients. Using a dataset with 12 key variables from 299 patients, we aim to develop a machine learning model that can assess mortality risk, providing insights that could support healthcare providers in early intervention and personalized treatment strategies\n",
    "\n",
    "### Problem statement \n",
    "\n",
    "Heart failure, a common outcome of cardiovascular disease, presents a significant mortality risk globally. Early identification of patients at high risk can support proactive healthcare and reduce mortality. This project explores the influence of age, gender, and coexisting health conditions on mortality in heart failure patients, aiming to provide actionable insights for improved patient management\n",
    "\n",
    "### Objectives\n",
    "\n",
    "1. To analyze how age and gender impact the prevalence of health conditions (e.g., diabetes, hypertension, anemia) in  heart failure patients.\n",
    "2. To assess mortality risk across different demographic groups and health conditions."
   ]
  },
  {
   "cell_type": "markdown",
   "id": "0ab79c08-f3dd-4028-b218-37059a1cdd57",
   "metadata": {},
   "source": [
    "### Importing Packages "
   ]
  },
  {
   "cell_type": "code",
   "execution_count": 23,
   "id": "96994dce-7388-41b1-b710-eae08096444f",
   "metadata": {},
   "outputs": [],
   "source": [
    "import pandas as pd\n",
    "import numpy as np\n",
    "import seaborn as sns\n",
    "import matplotlib.pyplot as plt\n",
    "from scipy.stats import ttest_ind"
   ]
  },
  {
   "cell_type": "markdown",
   "id": "592e10c1-77e7-4b1c-bc06-f912257a6f3f",
   "metadata": {},
   "source": [
    "### Loading data"
   ]
  },
  {
   "cell_type": "code",
   "execution_count": 28,
   "id": "e76fd833-4108-42f6-a6bb-b7eb016638e2",
   "metadata": {
    "scrolled": true
   },
   "outputs": [
    {
     "name": "stderr",
     "output_type": "stream",
     "text": [
      "<>:4: SyntaxWarning: invalid escape sequence '\\T'\n",
      "<>:4: SyntaxWarning: invalid escape sequence '\\T'\n",
      "C:\\Users\\Tracy\\AppData\\Local\\Temp\\ipykernel_17172\\3944064613.py:4: SyntaxWarning: invalid escape sequence '\\T'\n",
      "  df = pd.read_csv('C:/Users\\Tracy\\Documents\\Python project Team 6\\heart_failure_clinical_records_dataset.csv')\n"
     ]
    },
    {
     "data": {
      "text/html": [
       "<div>\n",
       "<style scoped>\n",
       "    .dataframe tbody tr th:only-of-type {\n",
       "        vertical-align: middle;\n",
       "    }\n",
       "\n",
       "    .dataframe tbody tr th {\n",
       "        vertical-align: top;\n",
       "    }\n",
       "\n",
       "    .dataframe thead th {\n",
       "        text-align: right;\n",
       "    }\n",
       "</style>\n",
       "<table border=\"1\" class=\"dataframe\">\n",
       "  <thead>\n",
       "    <tr style=\"text-align: right;\">\n",
       "      <th></th>\n",
       "      <th>age</th>\n",
       "      <th>anaemia</th>\n",
       "      <th>creatinine_phosphokinase</th>\n",
       "      <th>diabetes</th>\n",
       "      <th>ejection_fraction</th>\n",
       "      <th>high_blood_pressure</th>\n",
       "      <th>platelets</th>\n",
       "      <th>serum_creatinine</th>\n",
       "      <th>serum_sodium</th>\n",
       "      <th>sex</th>\n",
       "      <th>smoking</th>\n",
       "      <th>time</th>\n",
       "      <th>DEATH_EVENT</th>\n",
       "    </tr>\n",
       "  </thead>\n",
       "  <tbody>\n",
       "    <tr>\n",
       "      <th>0</th>\n",
       "      <td>75.0</td>\n",
       "      <td>0</td>\n",
       "      <td>582</td>\n",
       "      <td>0</td>\n",
       "      <td>20</td>\n",
       "      <td>1</td>\n",
       "      <td>265000.00</td>\n",
       "      <td>1.9</td>\n",
       "      <td>130</td>\n",
       "      <td>1</td>\n",
       "      <td>0</td>\n",
       "      <td>4</td>\n",
       "      <td>1</td>\n",
       "    </tr>\n",
       "    <tr>\n",
       "      <th>1</th>\n",
       "      <td>55.0</td>\n",
       "      <td>0</td>\n",
       "      <td>7861</td>\n",
       "      <td>0</td>\n",
       "      <td>38</td>\n",
       "      <td>0</td>\n",
       "      <td>263358.03</td>\n",
       "      <td>1.1</td>\n",
       "      <td>136</td>\n",
       "      <td>1</td>\n",
       "      <td>0</td>\n",
       "      <td>6</td>\n",
       "      <td>1</td>\n",
       "    </tr>\n",
       "    <tr>\n",
       "      <th>2</th>\n",
       "      <td>65.0</td>\n",
       "      <td>0</td>\n",
       "      <td>146</td>\n",
       "      <td>0</td>\n",
       "      <td>20</td>\n",
       "      <td>0</td>\n",
       "      <td>162000.00</td>\n",
       "      <td>1.3</td>\n",
       "      <td>129</td>\n",
       "      <td>1</td>\n",
       "      <td>1</td>\n",
       "      <td>7</td>\n",
       "      <td>1</td>\n",
       "    </tr>\n",
       "    <tr>\n",
       "      <th>3</th>\n",
       "      <td>50.0</td>\n",
       "      <td>1</td>\n",
       "      <td>111</td>\n",
       "      <td>0</td>\n",
       "      <td>20</td>\n",
       "      <td>0</td>\n",
       "      <td>210000.00</td>\n",
       "      <td>1.9</td>\n",
       "      <td>137</td>\n",
       "      <td>1</td>\n",
       "      <td>0</td>\n",
       "      <td>7</td>\n",
       "      <td>1</td>\n",
       "    </tr>\n",
       "    <tr>\n",
       "      <th>4</th>\n",
       "      <td>65.0</td>\n",
       "      <td>1</td>\n",
       "      <td>160</td>\n",
       "      <td>1</td>\n",
       "      <td>20</td>\n",
       "      <td>0</td>\n",
       "      <td>327000.00</td>\n",
       "      <td>2.7</td>\n",
       "      <td>116</td>\n",
       "      <td>0</td>\n",
       "      <td>0</td>\n",
       "      <td>8</td>\n",
       "      <td>1</td>\n",
       "    </tr>\n",
       "  </tbody>\n",
       "</table>\n",
       "</div>"
      ],
      "text/plain": [
       "    age  anaemia  creatinine_phosphokinase  diabetes  ejection_fraction  \\\n",
       "0  75.0        0                       582         0                 20   \n",
       "1  55.0        0                      7861         0                 38   \n",
       "2  65.0        0                       146         0                 20   \n",
       "3  50.0        1                       111         0                 20   \n",
       "4  65.0        1                       160         1                 20   \n",
       "\n",
       "   high_blood_pressure  platelets  serum_creatinine  serum_sodium  sex  \\\n",
       "0                    1  265000.00               1.9           130    1   \n",
       "1                    0  263358.03               1.1           136    1   \n",
       "2                    0  162000.00               1.3           129    1   \n",
       "3                    0  210000.00               1.9           137    1   \n",
       "4                    0  327000.00               2.7           116    0   \n",
       "\n",
       "   smoking  time  DEATH_EVENT  \n",
       "0        0     4            1  \n",
       "1        0     6            1  \n",
       "2        1     7            1  \n",
       "3        0     7            1  \n",
       "4        0     8            1  "
      ]
     },
     "execution_count": 28,
     "metadata": {},
     "output_type": "execute_result"
    }
   ],
   "source": [
    "import pandas as pd\n",
    "\n",
    "# Read the dataset into a DataFrame\n",
    "df = pd.read_csv('C:/Users\\Tracy\\Documents\\Python project Team 6\\heart_failure_clinical_records_dataset.csv')\n",
    "df= pd.read_csv('heart_failure_clinical_records_dataset.csv')\n",
    "df.head()"
   ]
  },
  {
   "cell_type": "code",
   "execution_count": 29,
   "id": "51771a97-1e01-49fd-9520-8cf1fbf307a5",
   "metadata": {},
   "outputs": [
    {
     "data": {
      "text/plain": [
       "(299, 13)"
      ]
     },
     "execution_count": 29,
     "metadata": {},
     "output_type": "execute_result"
    }
   ],
   "source": [
    "df.shape"
   ]
  },
  {
   "cell_type": "markdown",
   "id": "71f02157-a6d7-4016-b7c2-22a0fb4d59a8",
   "metadata": {},
   "source": [
    "import pandas as pd\n",
    "\n",
    "# Read the dataset into a DataFrame\n",
    "df = pd.read_csv('C:/Users\\Tracy\\Documents\\Python project Team 6\\heart_failure_clinical_records_dataset.csv')\n",
    "df .info()"
   ]
  },
  {
   "cell_type": "markdown",
   "id": "ccb44ce0-7d87-4fa5-bb08-de2203a5e30e",
   "metadata": {},
   "source": [
    "### Data Cleaning "
   ]
  },
  {
   "cell_type": "code",
   "execution_count": null,
   "id": "fcd5c190-8828-4245-a625-3bdeb1f8cff5",
   "metadata": {},
   "outputs": [],
   "source": []
  }
 ],
 "metadata": {
  "kernelspec": {
   "display_name": "Python 3 (ipykernel)",
   "language": "python",
   "name": "python3"
  },
  "language_info": {
   "codemirror_mode": {
    "name": "ipython",
    "version": 3
   },
   "file_extension": ".py",
   "mimetype": "text/x-python",
   "name": "python",
   "nbconvert_exporter": "python",
   "pygments_lexer": "ipython3",
   "version": "3.12.4"
  }
 },
 "nbformat": 4,
 "nbformat_minor": 5
}
